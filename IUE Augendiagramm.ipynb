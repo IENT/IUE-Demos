{
 "cells": [
  {
   "cell_type": "code",
   "execution_count": null,
   "metadata": {},
   "outputs": [],
   "source": [
    "# Copyright 2019 Institut für Nachrichtentechnik, RWTH Aachen University\n",
    "%matplotlib notebook\n",
    "\n",
    "from ipywidgets import interact, interactive, fixed, interact_manual\n",
    "\n",
    "import ipywidgets as widgets\n",
    "from IPython.display import clear_output, display, HTML, Audio\n",
    "import matplotlib.pyplot as plt\n",
    "from scipy import signal # convolution, \n",
    "\n",
    "from ient_nb.ient_plots import *\n",
    "from ient_nb.ient_signals import *\n",
    "\n",
    "def convolution(s, h):\n",
    "    # Convolve s and h numerically\n",
    "    g = signal.convolve(s, h, mode='same')*deltat; #g = g[0:len(s)];\n",
    "    return g"
   ]
  },
  {
   "cell_type": "markdown",
   "metadata": {},
   "source": [
    "<div>\n",
    "    <img src=\"ient_nb/figures/rwth_ient_logo@2x.png\" style=\"float: right;height: 5em;\">\n",
    "</div>\n",
    "\n",
    "# Augendiagramm\n",
    "\n",
    "Zur Veranschaulichung des Augendiagramms wird zunächst [unipolare Amplitudenabtastung](IUE%20Amplitudenabtastung.ipynb) betrieben, um anschließend das Ausgangssignal des Korrelationsfilters am Empfänger, $y(t)$ zu visualisieren."
   ]
  },
  {
   "cell_type": "markdown",
   "metadata": {},
   "source": [
    "## Unipolare Amplitudenabtastung\n",
    "\n",
    "### Sender\n",
    "\n",
    "Trägersignal"
   ]
  },
  {
   "cell_type": "code",
   "execution_count": null,
   "metadata": {},
   "outputs": [],
   "source": [
    "fs = 1000 # Abtastrate\n",
    "La = 100 # Anzahl an Symbolen\n",
    "\n",
    "# Trägersignal\n",
    "T=1 # Breite des Trägersignals in Sekunden\n",
    "s = lambda t: rect(t/T-0.5) \n",
    "#s = lambda t: tri((t-0.5)*2/T)*np.sqrt(3)\n",
    "\n",
    "# Zeitachse\n",
    "Tmax = La*T # Gesamtlänge des Sendesignals in Sekunden\n",
    "(t,deltat) = np.linspace(-Tmax, Tmax, 2*Tmax*fs, retstep=True) # Zeitachse\n",
    "\n",
    "# Plot\n",
    "fig,ax = plt.subplots(1,1); ax.plot(t, s(t)); ax.set_xlim([-0.25,2.25]); \n",
    "ax.set_xlabel(r'$\\rightarrow t$'); ax.set_xlabel(r'$\\rightarrow s(t)$'); ient_grid(ax); ient_axis(ax);"
   ]
  },
  {
   "cell_type": "markdown",
   "metadata": {},
   "source": [
    "Binäre Nachricht"
   ]
  },
  {
   "cell_type": "code",
   "execution_count": null,
   "metadata": {},
   "outputs": [],
   "source": [
    "a = np.random.randint(0, 2, size=La) # Nachricht\n",
    "a[0:10]"
   ]
  },
  {
   "cell_type": "markdown",
   "metadata": {},
   "source": [
    "Sendesignal"
   ]
  },
  {
   "cell_type": "code",
   "execution_count": null,
   "metadata": {},
   "outputs": [],
   "source": [
    "# Sendesignal\n",
    "m = np.zeros(len(t))\n",
    "for l in range(len(a)):\n",
    "    m = m + a[l]*s(t-l*T)"
   ]
  },
  {
   "cell_type": "markdown",
   "metadata": {},
   "source": [
    "### Kanal"
   ]
  },
  {
   "cell_type": "code",
   "execution_count": null,
   "metadata": {},
   "outputs": [],
   "source": [
    "def simulate_channel(N0, l=len(m)):\n",
    "     # Konvertierung Leistungsdichte in Leistung (im Diskreten). Einheit Leistungsdichte: Ws=W/Hz, Einheit Leistung: W\n",
    "    deltaf = 1/fs\n",
    "    sigma_n_squared = N0/deltaf # Varianz von n(t)\n",
    "    \n",
    "    # n(t) Werte sind Gauß-verteilt\n",
    "    n = np.random.normal(0, np.sqrt(sigma_n_squared), l)\n",
    "    return n\n",
    "\n",
    "n = simulate_channel(0.001)"
   ]
  },
  {
   "cell_type": "markdown",
   "metadata": {},
   "source": [
    "### Empfänger"
   ]
  },
  {
   "cell_type": "code",
   "execution_count": null,
   "metadata": {},
   "outputs": [],
   "source": [
    "def simulate_receiver(n,h):\n",
    "    # Faltung mit Filter h(t)\n",
    "    # eigentlich y(t) = [m(t)+n(t)]*h(t); allerdings ist m(t) determiniert und g(t) vorher berechnet worden\n",
    "    ne = convolution(n, h);\n",
    "    y = g + ne\n",
    "    return (y, ne)\n",
    "\n",
    "h = s(T-t)\n",
    "g  = convolution(m, h)\n",
    "y, ne = simulate_receiver(n,h)\n",
    "\n",
    "\n",
    "## Plot\n",
    "fig,axs = plt.subplots(1,2); \n",
    "ax = axs[0]; ax.plot(t/T, m, 'rwth');\n",
    "ax.set_xlabel(r'$\\rightarrow t/T$', bbox=ient_wbbox); ax.set_ylabel(r'$m(t)$'); \n",
    "ax.set_xlim([0,19]); ient_update_ylim(ax, np.concatenate((m,y)), 0.2); ient_grid(ax); ient_axis(ax); \n",
    "ax = axs[1]; ax.plot(t/T, y, 'rwth');\n",
    "ax.set_xlabel(r'$\\rightarrow t/T$', bbox=ient_wbbox); ax.set_ylabel(r'$y(t)$'); \n",
    "ax.set_xlim([0,19]); ient_update_ylim(ax, np.concatenate((m,y)), 0.2); ient_grid(ax); ient_axis(ax); "
   ]
  },
  {
   "cell_type": "markdown",
   "metadata": {},
   "source": [
    "## Augendiagramm"
   ]
  },
  {
   "cell_type": "code",
   "execution_count": null,
   "metadata": {},
   "outputs": [],
   "source": [
    "def eyediagram(x, L, shift=0):\n",
    "    k_max = int(np.ceil((len(x) - shift)/L)-1)\n",
    "    x0 = x[shift:-1]\n",
    "    x0 = x0[0:k_max*L]\n",
    "    # Chunk\n",
    "    E = np.reshape(x0, (-1,L)).T\n",
    "    tE = np.linspace(-T*fs/(L/2), T*fs/(L/2), L)\n",
    "    return (E, tE)\n",
    "\n",
    "# Plot\n",
    "fix,ax = plt.subplots(1,1, figsize=(8,4)); \n",
    "@interact(N0=widgets.FloatLogSlider(base=10,min=-5, max=0, step=0.1, value=-5, description=r'$N_0$', readout_format='.5f'))\n",
    "def update_plot(N0):\n",
    "    # Simulate everything\n",
    "    n = simulate_channel(N0)\n",
    "    y, ne = simulate_receiver(n,h)\n",
    "    \n",
    "    # Create eyediagram data\n",
    "    E,tE = eyediagram(y,int(T*fs*2))\n",
    "    \n",
    "    # Plot\n",
    "    if not ax.lines:\n",
    "        ax.plot(tE, E, 'rwth');\n",
    "        ax.set_xlabel(r'$\\rightarrow t/T$', bbox=ient_wbbox); ax.set_ylabel(r'$\\uparrow y(t)$', bbox=ient_wbbox);\n",
    "        ax.set_xlim([-1.09,1.19]); ax.set_ylim([-0.19,1.29]); ax.grid(); ient_axis(ax)\n",
    "    else:\n",
    "        for it,l in enumerate(ax.lines): l.set_ydata(E[:,it])"
   ]
  },
  {
   "cell_type": "markdown",
   "metadata": {},
   "source": [
    "This notebook is provided as [Open Educational Resource](https://en.wikipedia.org/wiki/Open_educational_resources) (OER). Feel free to use the notebook for your own purposes. The code is licensed under the [MIT license](https://opensource.org/licenses/MIT). \n",
    "\n",
    "Please attribute the work as follows: \n",
    "*Christian Rohlfing, Übungsbeispiele zur Vorlesung \"Informationsübertragung\"*, gehalten von Jens-Rainer Ohm, 2019, Institut für Nachrichtentechnik, RWTH Aachen University."
   ]
  }
 ],
 "metadata": {
  "kernelspec": {
   "display_name": "Python 3",
   "language": "python",
   "name": "python3"
  },
  "language_info": {
   "codemirror_mode": {
    "name": "ipython",
    "version": 3
   },
   "file_extension": ".py",
   "mimetype": "text/x-python",
   "name": "python",
   "nbconvert_exporter": "python",
   "pygments_lexer": "ipython3",
   "version": "3.6.7"
  }
 },
 "nbformat": 4,
 "nbformat_minor": 2
}
