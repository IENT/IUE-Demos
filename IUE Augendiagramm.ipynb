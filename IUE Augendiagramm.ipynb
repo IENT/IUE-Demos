{
 "cells": [
  {
   "cell_type": "code",
   "execution_count": null,
   "metadata": {},
   "outputs": [],
   "source": [
    "# Copyright 2019 Institut für Nachrichtentechnik, RWTH Aachen University\n",
    "%matplotlib notebook\n",
    "\n",
    "from ipywidgets import interact, interactive, fixed, interact_manual\n",
    "\n",
    "import ipywidgets as widgets\n",
    "from IPython.display import clear_output, display, HTML, Audio\n",
    "import matplotlib.pyplot as plt\n",
    "from scipy import signal # convolution, \n",
    "\n",
    "from ient_nb.ient_plots import *\n",
    "from ient_nb.ient_signals import *"
   ]
  },
  {
   "cell_type": "markdown",
   "metadata": {},
   "source": [
    "<div>\n",
    "    <img src=\"ient_nb/figures/rwth_ient_logo@2x.png\" style=\"float: right;height: 5em;\">\n",
    "</div>\n",
    "\n",
    "# Augendiagramm"
   ]
  },
  {
   "cell_type": "code",
   "execution_count": null,
   "metadata": {},
   "outputs": [],
   "source": [
    "def convolution(s, h):\n",
    "    # Convolve s and h numerically\n",
    "    g = signal.convolve(s, h, mode='full')*deltat; g = g[0:len(s)];\n",
    "    return g\n",
    "raisedCosine = lambda t: rect(t)*np.cos(np.pi*t)**2\n",
    "raisedCosine = lambda t: 0.5*si(np.pi*t)+0.25*si(np.pi*(t+1))+0.25*si(np.pi*(t-1))\n",
    "\n",
    "fs = 1000 # Abtastrate\n",
    "La = 100 # Anzahl an Symbolen\n",
    "\n",
    "T=1 # Breite des Trägersignals in Sekunden\n",
    "Tmax = La*T # Gesamtlänge des Sendesignals\n",
    "\n",
    "# Achsen\n",
    "(t,deltat) = np.linspace(0, Tmax, Tmax*fs, retstep=True) # Zeitachse"
   ]
  },
  {
   "cell_type": "code",
   "execution_count": null,
   "metadata": {},
   "outputs": [],
   "source": [
    "a = np.random.randint(0, 2, size=La) # Nachricht\n",
    "a[0:10]"
   ]
  },
  {
   "cell_type": "code",
   "execution_count": null,
   "metadata": {},
   "outputs": [],
   "source": [
    "## Sender\n",
    "\n",
    "# Trägersignal\n",
    "s = lambda t: rect(t/T-0.5) \n",
    "#s = lambda t: raisedCosine(t/T*3-0.5)\n",
    "\n",
    "# Sendesignal\n",
    "m = np.zeros(len(t))\n",
    "for l in range(len(a)):\n",
    "    m = m + a[l]*s(t-l*T)\n",
    "\n",
    "## Kanal\n",
    "n = np.random.normal(0,1,len(t));\n",
    "x = m+n\n",
    "#x=m\n",
    "\n",
    "## Empfänger\n",
    "y = convolution(x, s(T-t))\n",
    "\n",
    "# Plot\n",
    "fig,axs = plt.subplots(1,2); \n",
    "ax = axs[0]; ax.plot(t/T, m, 'rwth');\n",
    "ax.set_xlabel(r'$\\rightarrow t/T$'); ax.set_ylabel(r'$m(t)$'); \n",
    "ax.set_xlim([0,20]); ax.set_ylim([0,1.09]); ient_axis(ax); \n",
    "ax = axs[1]; ax.plot(t/T, y, 'rwth');\n",
    "ax.set_xlabel(r'$\\rightarrow t/T$'); ax.set_ylabel(r'$y(t)$'); \n",
    "ax.set_xlim([0,20]); ax.set_ylim([0,1.09]); ient_axis(ax); "
   ]
  },
  {
   "cell_type": "markdown",
   "metadata": {},
   "source": [
    "## Augendiagramm"
   ]
  },
  {
   "cell_type": "code",
   "execution_count": null,
   "metadata": {},
   "outputs": [],
   "source": [
    "def eyediagram(x, L, shift=0):\n",
    "    \n",
    "    k_max = int((len(x) - shift)/L)-1\n",
    "    x = x[0:k_max*L]\n",
    "    \n",
    "    E = np.reshape(x, (-1,L)).T\n",
    "    t = np.linspace(-T,T,L)\n",
    "    return (E,t)\n",
    "\n",
    "E,tE = eyediagram(y,int(T*fs*2))\n",
    "\n",
    "# Plot\n",
    "fix,ax = plt.subplots(1,1); ax.plot(tE, E, 'RWTH');\n",
    "ax.set_xlabel(r'$\\rightarrow t/T$', bbox=ient_wbbox); ax.set_ylabel(r'$\\uparrow y(t)$', bbox=ient_wbbox);\n",
    "ax.set_xlim([-1,1.19]); ax.set_ylim([0,1.09]); ax.grid(); ient_axis(ax)"
   ]
  },
  {
   "cell_type": "markdown",
   "metadata": {},
   "source": [
    "This notebook is provided as [Open Educational Resource](https://en.wikipedia.org/wiki/Open_educational_resources) (OER). Feel free to use the notebook for your own purposes. The code is licensed under the [MIT license](https://opensource.org/licenses/MIT). \n",
    "\n",
    "Please attribute the work as follows: \n",
    "*Christian Rohlfing, Übungsbeispiele zur Vorlesung \"Informationsübertragung\"*, gehalten von Jens-Rainer Ohm, 2019, Institut für Nachrichtentechnik, RWTH Aachen University."
   ]
  }
 ],
 "metadata": {
  "kernelspec": {
   "display_name": "Python 3",
   "language": "python",
   "name": "python3"
  },
  "language_info": {
   "codemirror_mode": {
    "name": "ipython",
    "version": 3
   },
   "file_extension": ".py",
   "mimetype": "text/x-python",
   "name": "python",
   "nbconvert_exporter": "python",
   "pygments_lexer": "ipython3",
   "version": "3.6.7"
  }
 },
 "nbformat": 4,
 "nbformat_minor": 2
}
