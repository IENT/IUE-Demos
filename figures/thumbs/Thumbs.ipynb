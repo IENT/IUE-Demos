{
 "cells": [
  {
   "cell_type": "code",
   "execution_count": null,
   "metadata": {},
   "outputs": [],
   "source": [
    "import os, sys\n",
    "from PIL import Image\n",
    "\n",
    "size = 256, 256\n",
    "\n",
    "for infile in ['quantization.png']:#['ternary_source.png', 'rayleigh.png', 'amplitudenabtastung.png', 'akf_rechteckfolge.png', 'augendiagramm.png', 'pam.png']:\n",
    "    outfile = os.path.splitext(infile)[0] + \".thumb.png\"\n",
    "    if infile != outfile:\n",
    "        try:\n",
    "            im = Image.open(infile)\n",
    "            im.thumbnail(size, Image.ANTIALIAS)\n",
    "            im.save(outfile, \"PNG\")\n",
    "        except IOError:\n",
    "            print(\"cannot create thumbnail for '%s'\" % infile)"
   ]
  },
  {
   "cell_type": "code",
   "execution_count": null,
   "metadata": {},
   "outputs": [],
   "source": []
  }
 ],
 "metadata": {
  "kernelspec": {
   "display_name": "Python 3",
   "language": "python",
   "name": "python3"
  },
  "language_info": {
   "codemirror_mode": {
    "name": "ipython",
    "version": 3
   },
   "file_extension": ".py",
   "mimetype": "text/x-python",
   "name": "python",
   "nbconvert_exporter": "python",
   "pygments_lexer": "ipython3",
   "version": "3.7.3"
  }
 },
 "nbformat": 4,
 "nbformat_minor": 2
}
