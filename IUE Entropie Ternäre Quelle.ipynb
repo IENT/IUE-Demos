{
 "cells": [
  {
   "cell_type": "code",
   "execution_count": null,
   "metadata": {
    "hide_input": false
   },
   "outputs": [],
   "source": [
    "# Copyright 2019 Institut für Nachrichtentechnik, RWTH Aachen University\n",
    "%matplotlib notebook\n",
    "\n",
    "from ipywidgets import interact, interactive, fixed\n",
    "import ipywidgets as widgets\n",
    "from IPython.display import clear_output, display, HTML\n",
    "\n",
    "import matplotlib.pyplot as plt\n",
    "from matplotlib.patches import Polygon\n",
    "import scipy as sp\n",
    "import scipy.special # erfc(x)\n",
    "\n",
    "from ient_nb.ient_plots import *\n",
    "eps = np.finfo(float).eps # very small positive number"
   ]
  },
  {
   "cell_type": "markdown",
   "metadata": {},
   "source": [
    "<div>\n",
    "    <img src=\"figures/rwth_ient_logo@2x.png\" style=\"float: right;height: 5em;\">\n",
    "</div>\n",
    "\n",
    "# Entropie Ternäre Quelle\n",
    "\n",
    "Setze $p_1=p_2=p$ sowie $p_3 = 1-p_1-p_2 = 1-2p$.\n",
    "\n",
    "Außerdem wird angenommen, dass das Nutzsignal $f(t)$ Gauß-verteilt ist mit Verteilungsdichtefunktion $p_f(x)$"
   ]
  },
  {
   "cell_type": "code",
   "execution_count": null,
   "metadata": {},
   "outputs": [],
   "source": [
    "x = np.arange(-12, 12, 0.01)\n",
    "p = np.arange(0, 0.5, 0.001)\n",
    "\n",
    "gaussian_pdf = lambda x, ms, sigmas: 1/(sigmas*np.sqrt(2*np.pi)) * np.exp(-(x-ms)**2/(2*sigmas**2))\n",
    "gaussian_pf  = lambda x, ms, sigmas: 0.5*sp.special.erfc((ms-x)/np.sqrt(2*sigmas**2))\n",
    "pf = lambda x: gaussian_pdf(x, 0, 5); Pf = lambda x: gaussian_pf(x, 0, 5); # shortcuts"
   ]
  },
  {
   "cell_type": "markdown",
   "metadata": {},
   "source": [
    "Entropie der ternären Quelle \n",
    "$\n",
    "    H(p) =\n",
    "    2\\left[-p\\,\\mathrm{lb}(p)\\right] -\n",
    "    (1-2p)\\mathrm{lb}(1-2p)\n",
    "$"
   ]
  },
  {
   "cell_type": "code",
   "execution_count": null,
   "metadata": {
    "hide_input": false
   },
   "outputs": [],
   "source": [
    "H = lambda p: 2*(-p*np.log2(p+eps)) - (1-2*p)*np.log2(1-2*p+eps)"
   ]
  },
  {
   "cell_type": "markdown",
   "metadata": {
    "hide_input": true
   },
   "source": [
    "Plotte beispielhafte Verteilungsdichtefunktion $p_f(x)$ sowie resultierende Entropie $H(p)$"
   ]
  },
  {
   "cell_type": "code",
   "execution_count": null,
   "metadata": {
    "scrolled": false
   },
   "outputs": [],
   "source": [
    "fig, axs = plt.subplots(2, 1)\n",
    "@interact(theta=widgets.FloatSlider(min=0.02, max=9, step=0.02, value=3, description='$\\Theta$'))\n",
    "def update_plot(theta):\n",
    "    p_sel = Pf(-theta) # probability function gives p\n",
    "    \n",
    "    if not axs[0].lines: # plot everything for the first time\n",
    "        ax = axs[0]; ax.plot(x, pf(x), 'rwth')\n",
    "        ax.text(-theta, -0.001, r'$-\\Theta$', fontsize=12, bbox=ient_wbbox, horizontalalignment='right', verticalalignment='top');\n",
    "        ax.text( theta, -0.001, r'$ \\Theta$', fontsize=12, bbox=ient_wbbox, horizontalalignment='left',  verticalalignment='top');\n",
    "        ax.set_xlabel(r'$\\rightarrow x$', bbox=ient_wbbox); ax.set_ylabel(r'$\\uparrow p_f\\left(x\\right)$');\n",
    "        ax.set_xlim(-10, 12); ax.set_ylim(0,0.099); ient_axis(ax);\n",
    "        \n",
    "        ax = axs[1]; ax.plot(p, H(p), 'rwth');\n",
    "        ax.plot([p_sel, p_sel], [0, H(p_sel)], 'k--o', lw=1); ax.plot([0, p_sel], [H(p_sel), H(p_sel)], 'k--', lw=1);\n",
    "        ax.set_xlabel(r'$\\rightarrow p$'); ax.set_ylabel(r'$\\uparrow H\\left(p\\right)$');\n",
    "        ax.set_xlim(0,0.54);ax.set_ylim(0,2.4); ient_axis(ax);\n",
    "    else: # remove patches and move texts\n",
    "        [tmp.remove() for tmp in reversed(axs[0].collections)]\n",
    "        axs[0].texts[0].set_x(-theta); axs[0].texts[1].set_x(theta);\n",
    "        axs[1].lines[1].set_data(([p_sel, p_sel], [0, H(p_sel)])); \n",
    "        axs[1].lines[2].set_data(([0, p_sel], [H(p_sel), H(p_sel)]));  \n",
    "        \n",
    "    ax = axs[0]; # re-plot patches\n",
    "    xtheta = x.copy(); xtheta[np.abs(xtheta) > theta] = np.nan;\n",
    "    ax.fill_between(xtheta, 0, pf(xtheta), facecolor=\"none\", hatch=\"//\", edgecolor='orange', linewidth=0.0);\n",
    "    xtheta = x.copy(); xtheta[xtheta < theta] = np.nan;\n",
    "    ax.fill_between(xtheta, 0, pf(xtheta), facecolor=\"none\", hatch=\"\\\\\", edgecolor='black-75', linewidth=0.0);\n",
    "    xtheta = x.copy(); xtheta[xtheta >- theta] = np.nan;\n",
    "    ax.fill_between(xtheta, 0, pf(xtheta), facecolor=\"none\", hatch=\"\\\\\", edgecolor='black-75', linewidth=0.0);\n",
    "    if not ax.get_legend_handles_labels()[0]: ax.legend([r'$p_f(x)$',r'$p_3=1-2p$',r'$p_1=p_2=p$']);\n",
    "    print('p = {:.4f}, H(p) = {:.4f}'.format(p_sel, H(p_sel)))"
   ]
  },
  {
   "cell_type": "markdown",
   "metadata": {},
   "source": [
    "This notebook is provided as [Open Educational Resource](https://en.wikipedia.org/wiki/Open_educational_resources) (OER). Feel free to use the notebook for your own purposes. The code is licensed under the [MIT license](https://opensource.org/licenses/MIT). \n",
    "\n",
    "Please attribute the work as follows: \n",
    "*Christian Rohlfing, Übungsbeispiele zur Vorlesung \"Informationsübertragung\"*, gehalten von Jens-Rainer Ohm, 2019, Institut für Nachrichtentechnik, RWTH Aachen University."
   ]
  }
 ],
 "metadata": {
  "kernelspec": {
   "display_name": "Python 3",
   "language": "python",
   "name": "python3"
  },
  "language_info": {
   "codemirror_mode": {
    "name": "ipython",
    "version": 3
   },
   "file_extension": ".py",
   "mimetype": "text/x-python",
   "name": "python",
   "nbconvert_exporter": "python",
   "pygments_lexer": "ipython3",
   "version": "3.7.3"
  }
 },
 "nbformat": 4,
 "nbformat_minor": 2
}
