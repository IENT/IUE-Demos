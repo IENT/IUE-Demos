{
 "cells": [
  {
   "cell_type": "markdown",
   "metadata": {},
   "source": [
    "<div>\n",
    "    <img src=\"figures/rwth_ient_logo@2x.png\" style=\"float: right;height: 5em;\">\n",
    "</div>\n",
    "\n",
    "# Übungsbeispiele zur Vorlesung Informationsübertragung\n",
    "\n",
    "## Inhaltsverzeichnis\n",
    "\n",
    "\n",
    "* [Autokorrelationsfunktion Binäre Rechteckfolge \n",
    "    ![Thumbnail](figures/thumbs/akf_rechteckfolge.thumb.png)](IUE%20Autokorrelationsfunktion%20Binäre%20Rechteckfolge.ipynb)\n",
    "* [Unipolare Amplitudenabtastung \n",
    "    ![Thumbnail](figures/thumbs/amplitudenabtastung.thumb.png)](IUE%20Amplitudenabtastung.ipynb)\n",
    "* [Augendiagramm\n",
    "    ![Thumbnail](figures/thumbs/augendiagramm.thumb.png)](IUE%20Augendiagramm.ipynb)\n",
    "* [Rayleigh-Verteilung \n",
    "    ![Thumbnail](figures/thumbs/rayleigh.thumb.png)](IUE%20Rayleigh-Verteilung.ipynb)\n",
    "* [Pulsamplitudenmodulation \n",
    "    ![Thumbnail](figures/thumbs/pam.thumb.png)](IUE%20Pulsamplitudenmodulation.ipynb)\n",
    "* [Quantisierung\n",
    "    ![Thumbnail](figures/thumbs/quantization.thumb.png)](IUE%20Quantisierung.ipynb)\n",
    "* [Entropie Ternäre Quelle\n",
    "    ![Thumbnail](figures/thumbs/ternary_source.thumb.png)](IUE%20Entropie%20Ternäre%20Quelle.ipynb)\n",
    "\n",
    "\n",
    "\n",
    "## Jupyter Quick Start\n",
    "\n",
    "* Zum Ausführen aller Cells eines Notebooks: Im Menü: Cell <span class=\"fa-chevron-right fa\"></span> Run All\n",
    "* Zum Neustart (und erneutem Ausführen): <span class=\"fa-forward fa\"></span>-Button\n",
    "* Zum Ausführen einer einzelnen Cell: <span class=\"fa-step-forward fa\"></span> Run-Button\n",
    "\n",
    "\n",
    "## Mitwirkende\n",
    "\n",
    "* [Christian Rohlfing](http://www.ient.rwth-aachen.de/cms/c_rohlfing/)\n",
    "* [Jens Schneider](http://www.ient.rwth-aachen.de/cms/j_schneider/)"
   ]
  },
  {
   "cell_type": "markdown",
   "metadata": {},
   "source": [
    "This notebook is provided as [Open Educational Resource](https://en.wikipedia.org/wiki/Open_educational_resources) (OER). Feel free to use the notebook for your own purposes. The code is licensed under the [MIT license](https://opensource.org/licenses/MIT). \n",
    "\n",
    "Please attribute the work as follows: \n",
    "*Christian Rohlfing, Übungsbeispiele zur Vorlesung \"Informationsübertragung\"*, gehalten von Jens-Rainer Ohm, 2019, [Institut für Nachrichtentechnik](http://www.ient.rwth-aachen.de), RWTH Aachen University."
   ]
  }
 ],
 "metadata": {
  "kernelspec": {
   "display_name": "Python 3",
   "language": "python",
   "name": "python3"
  },
  "language_info": {
   "codemirror_mode": {
    "name": "ipython",
    "version": 3
   },
   "file_extension": ".py",
   "mimetype": "text/x-python",
   "name": "python",
   "nbconvert_exporter": "python",
   "pygments_lexer": "ipython3",
   "version": "3.7.3"
  }
 },
 "nbformat": 4,
 "nbformat_minor": 2
}
