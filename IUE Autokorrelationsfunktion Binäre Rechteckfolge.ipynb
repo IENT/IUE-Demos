{
 "cells": [
  {
   "cell_type": "code",
   "execution_count": null,
   "metadata": {},
   "outputs": [],
   "source": [
    "# Copyright 2019 Institut für Nachrichtentechnik, RWTH Aachen University\n",
    "%matplotlib notebook\n",
    "\n",
    "from ipywidgets import interact, interactive, fixed, interact_manual\n",
    "import ipywidgets as widgets\n",
    "from IPython.display import clear_output, display, HTML\n",
    "import matplotlib.pyplot as plt\n",
    "\n",
    "from ient_nb.ient_plots import *\n",
    "from ient_nb.ient_signals import *"
   ]
  },
  {
   "cell_type": "markdown",
   "metadata": {},
   "source": [
    "<div>\n",
    "    <img src=\"ient_nb/figures/rwth_ient_logo@2x.png\" style=\"float: right;height: 5em;\">\n",
    "</div>\n",
    "\n",
    "# Autokorrelationsfunktion Binäre Rechteckfolge"
   ]
  },
  {
   "cell_type": "markdown",
   "metadata": {},
   "source": [
    "Binäre Rechteckfolge ist definiert als\n",
    "$$s(t) = \\sum_{n=-\\infty}^{\\infty} a_n \\cdot \\mathrm{rect} \\left ( \\frac{t-nT}{T} \\right )$$ \n",
    "mit $\\mathrm{Prob}\\{a_n=0\\}=\\mathrm{Prob}\\{a_n=1\\}=\\frac{1}{2}$."
   ]
  },
  {
   "cell_type": "code",
   "execution_count": null,
   "metadata": {},
   "outputs": [],
   "source": [
    "N = 10000 # Anzahl an Takten\n",
    "T = 10 # Taktzeit\n",
    "an = np.random.randint(2, size=N) # a_n Zufallsvektor mit Nullen und Einsen\n",
    "s = np.repeat(an, T);             # konstruiere Vektor mit Einsen und Nullen gehalten für T\n",
    "(tdash,deltat) = np.linspace(0,len(s)/T,len(s), retstep=True) # normalisierte t-Achse (t'=t/T)\n",
    "\n",
    "an[0:50]"
   ]
  },
  {
   "cell_type": "markdown",
   "metadata": {},
   "source": [
    "Plotte erste 50 Takte von $s(t)$:"
   ]
  },
  {
   "cell_type": "code",
   "execution_count": null,
   "metadata": {},
   "outputs": [],
   "source": [
    "fig,ax = plt.subplots(1, 1); plt.plot(tdash[0:50*T], s[0:50*T], 'rwth');\n",
    "ax.set_ylabel(r'$\\uparrow s(t)$'); ax.set_xlabel(r'$\\rightarrow t/T$');\n",
    "ax.set_xlim([-0.1,59]); ax.set_ylim(0,1.09); ient_axis(ax);"
   ]
  },
  {
   "cell_type": "markdown",
   "metadata": {},
   "source": [
    "Berechne Mittelwert $m_s$ und Varianz $\\sigma_s^2$"
   ]
  },
  {
   "cell_type": "code",
   "execution_count": null,
   "metadata": {},
   "outputs": [],
   "source": [
    "m_s = np.mean(s); var_s = np.std(s)**2; \n",
    "print('Mittelwert m_s = {0:.2f}, Varianz sigma_s^2 = {1:.2f}'.format(m_s,var_s));"
   ]
  },
  {
   "cell_type": "markdown",
   "metadata": {},
   "source": [
    "Die Autokorrelationsfuntkion von Leistungssignalen ist definiert als:\n",
    "$$ \\varphi_{ss}^{\\mathrm{L}} (\\tau) = \\lim_{T' \\rightarrow \\infty} \\frac{1}{2T'} \\int_{-T'}^{T'} s^{\\ast}(t) s(t + \\tau) \\mathrm{d} t $$\n",
    "Das Problem mit der Unendlichkeit umgehen wir durch eine längere Messdauer ($T'=5T$) und zyklische verschiebung des Signals. \n",
    "Es reicht aus, die AKF im Bereich $ -5T < \\tau < 5T $ zu berechnen."
   ]
  },
  {
   "cell_type": "code",
   "execution_count": null,
   "metadata": {},
   "outputs": [],
   "source": [
    "# Estimate phi_ss\n",
    "shifts = np.arange(-5*T,5*T+1);\n",
    "taudash = shifts/T # normalisierte tau-Achse: tau'=tau/T\n",
    "y = map(lambda a: np.dot(np.roll(s,a).T, s), shifts) # Skalarprodukt (dot) mit zyklischer Verschiebung (shift)\n",
    "phi_ss_est = np.array(list(y))/N/T\n",
    "\n",
    "# Calculate phi_ss\n",
    "phi_ss = 0.25 + 0.25*tri(taudash)\n",
    "\n",
    "# Plot\n",
    "fig,ax = plt.subplots(1,1); \n",
    "plt.plot(taudash, phi_ss, 'k--', label='Berechnet');\n",
    "plt.plot(taudash, phi_ss_est, 'rwth', label='Geschätzt');\n",
    "ax.set_xlabel(r'$\\rightarrow \\tau/T$'); ax.set_ylabel(r'$\\uparrow \\varphi_{ss}^{\\mathrm{L}}(\\tau)$');\n",
    "ax.set_xlim([-5,5.25]); ax.set_ylim(0, 0.59); ax.legend(); ient_grid(ax); ient_axis(ax);"
   ]
  },
  {
   "cell_type": "markdown",
   "metadata": {},
   "source": [
    "## Interaktive Demo"
   ]
  },
  {
   "cell_type": "code",
   "execution_count": null,
   "metadata": {},
   "outputs": [],
   "source": [
    "fig, axs = plt.subplots(2, 1, figsize=(8,5))\n",
    "@widgets.interact(tt=widgets.FloatSlider(min=-5,max=5,step=0.2,value=0,description=r'$\\tau/T$:'))\n",
    "def update_plots(tt=0):\n",
    "    N_crop = 30 # crop some cycles\n",
    "    sshift = np.roll(s,int(tt*T))\n",
    "    t_ind = np.where(taudash>=tt); t_ind = t_ind[0][0];  #g_plot = g.copy(); #g_plot[t_ind:] = np.nan\n",
    "    \n",
    "    if not axs[0].lines: \n",
    "        ax = axs[0] # first axis: s and shifted version of s\n",
    "        ax.plot(tdash[0:N_crop*T], s[0:N_crop*T], 'rwth')\n",
    "        ax.plot(tdash[0:N_crop*T], sshift[0:N_crop*T], 'grun')\n",
    "        ax.set_xlabel(r'$\\rightarrow t$'); ax.set_ylabel(r'$\\uparrow s(t)$'); \n",
    "        ax.set_xlim([-0.1,N_crop*1.1]); ax.set_ylim(0,1.19); ient_axis(ax)\n",
    "\n",
    "        ax = axs[1] # second axis: phi_ss and marker\n",
    "        ax.plot(taudash, phi_ss, 'rwth')\n",
    "        ax.plot([tt, tt], [0, phi_ss[t_ind]], 'ko--', lw=1);\n",
    "        ax.set_ylabel(r'$\\uparrow \\varphi_{ss}^{\\mathrm{L}}(\\tau)$'); ax.set_xlabel(r'$\\rightarrow \\tau/T$');\n",
    "        ax.set_xlim([-5,5.9]); ax.set_ylim(0,0.55); ient_axis(ax)\n",
    "    else: # update lines\n",
    "        axs[0].lines[1].set_ydata(sshift[0:N_crop*T]);\n",
    "        axs[1].lines[1].set_xdata([tt, tt]); \n",
    "        axs[1].lines[1].set_ydata([0, phi_ss[t_ind]]);"
   ]
  },
  {
   "cell_type": "markdown",
   "metadata": {},
   "source": [
    "This notebook is provided as [Open Educational Resource](https://en.wikipedia.org/wiki/Open_educational_resources) (OER). Feel free to use the notebook for your own purposes. The code is licensed under the [MIT license](https://opensource.org/licenses/MIT). \n",
    "\n",
    "Please attribute the work as follows: \n",
    "*Christian Rohlfing, Jens Schneider, Übungsbeispiele zur Vorlesung \"Informationsübertragung\"*, gehalten von Jens-Rainer Ohm, 2019, Institut für Nachrichtentechnik, RWTH Aachen University."
   ]
  }
 ],
 "metadata": {
  "kernelspec": {
   "display_name": "Python 3",
   "language": "python",
   "name": "python3"
  },
  "language_info": {
   "codemirror_mode": {
    "name": "ipython",
    "version": 3
   },
   "file_extension": ".py",
   "mimetype": "text/x-python",
   "name": "python",
   "nbconvert_exporter": "python",
   "pygments_lexer": "ipython3",
   "version": "3.6.7"
  }
 },
 "nbformat": 4,
 "nbformat_minor": 2
}
