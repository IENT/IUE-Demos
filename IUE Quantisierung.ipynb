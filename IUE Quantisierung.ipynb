{
 "cells": [
  {
   "cell_type": "code",
   "execution_count": null,
   "metadata": {},
   "outputs": [],
   "source": [
    "# Copyright 2019 Institut für Nachrichtentechnik, RWTH Aachen University\n",
    "%matplotlib notebook\n",
    "\n",
    "from ipywidgets import interact, interactive, fixed\n",
    "import ipywidgets as widgets\n",
    "from IPython.display import clear_output, display, HTML\n",
    "\n",
    "import matplotlib.pyplot as plt\n",
    "from matplotlib.patches import Polygon\n",
    "import scipy as sp\n",
    "import scipy.special # erfc(x)\n",
    "\n",
    "from ient_nb.ient_plots import *\n",
    "from ient_nb.ient_signals import rect\n",
    "\n",
    "eps = np.finfo(float).eps # very small positive number"
   ]
  },
  {
   "cell_type": "markdown",
   "metadata": {},
   "source": [
    "<div>\n",
    "    <img src=\"figures/rwth_ient_logo@2x.png\" style=\"float: right;height: 5em;\">\n",
    "</div>\n",
    "\n",
    "# Quantisierung"
   ]
  },
  {
   "cell_type": "markdown",
   "metadata": {},
   "source": [
    "Exemplarisches Signal $s(t) = 2\\sin(2\\pi t)$"
   ]
  },
  {
   "cell_type": "code",
   "execution_count": null,
   "metadata": {},
   "outputs": [],
   "source": [
    "x = np.linspace(-3, 3, 5001) # x-axis\n",
    "t = np.arange(-.2, 1.1, 0.0001) # t-axis\n",
    "\n",
    "Amax = 2\n",
    "s = Amax*np.sin(2*np.pi*t)"
   ]
  },
  {
   "cell_type": "markdown",
   "metadata": {},
   "source": [
    "## Gleichförmige Quantisierung\n",
    "\n",
    "### Midtreat-Quantisierung:\n",
    "\n",
    "Kennlinie\n",
    "$$k(x) = \\left\\lfloor x +\\frac{1}{2} \\right\\rfloor$$"
   ]
  },
  {
   "cell_type": "code",
   "execution_count": null,
   "metadata": {},
   "outputs": [],
   "source": [
    "# Characteristic\n",
    "k = lambda x: np.floor(x+0.5)\n",
    "\n",
    "# Quantize\n",
    "sQ = k(s)\n",
    "\n",
    "# Plot\n",
    "fig,axs = plt.subplots(1,2, figsize=(8,4)); \n",
    "ax = axs[0]; ax.plot(x, k(x), 'rwth'); \n",
    "ient_annotate_distance(ax, r'$\\Delta$', [1,0], [1,1]); ax.texts[1].set_position((5,5));\n",
    "ax.set_xlabel(r'$\\rightarrow x$'); ax.set_ylabel(r'$\\uparrow k(x)$');\n",
    "ax.set_xlim([-2.25, 2.25]); ax.set_ylim([-2.25, 2.25]); ient_grid(ax); ient_axis(ax); \n",
    "\n",
    "ax = axs[1]; ax.plot(t, s, 'k--', label=r'$s(t)$'); ax.plot(t, sQ, 'rwth', label=r'$s_\\mathrm{Q}(t)$')\n",
    "ax.set_xlabel(r'$\\rightarrow t$'); \n",
    "ax.set_ylim(axs[0].get_ylim()); ax.legend(); ient_grid(ax); ient_axis(ax);"
   ]
  },
  {
   "cell_type": "markdown",
   "metadata": {},
   "source": [
    "### Midrise-Quantisierung:\n",
    "\n",
    "Kennlinie\n",
    "$$k(x) = \\frac{1}{2} + \\left\\lfloor x \\right\\rfloor$$"
   ]
  },
  {
   "cell_type": "code",
   "execution_count": null,
   "metadata": {},
   "outputs": [],
   "source": [
    "# Characteristic\n",
    "k = lambda x: 0.5+np.floor(x)\n",
    "\n",
    "# Quantize\n",
    "sQ = k(s)\n",
    "\n",
    "# Plot\n",
    "fig,axs = plt.subplots(1,2, figsize=(8,4)); \n",
    "ax = axs[0]; ax.plot(x, k(x), 'rwth'); \n",
    "ax.set_xlabel(r'$\\rightarrow x$'); ax.set_ylabel(r'$\\uparrow k(x)$');\n",
    "ax.set_xlim([-1.75, 2.75]); ax.set_ylim([-1.75, 2.75]); ient_grid(ax); ient_axis(ax);\n",
    "\n",
    "ax = axs[1]; ax.plot(t, s, 'k--', label=r'$s(t)$'); ax.plot(t, sQ, 'rwth', label=r'$s_\\mathrm{Q}(t)$')\n",
    "ax.set_xlabel(r'$\\rightarrow t$'); \n",
    "ax.set_ylim(axs[0].get_ylim()); ax.legend(); ient_grid(ax); ient_axis(ax);"
   ]
  },
  {
   "cell_type": "markdown",
   "metadata": {},
   "source": [
    "### Generalisierung\n",
    "\n",
    "Stufenhöhe jetzt variabel (vorher $\\Delta=1$). Mit frei wählbarer Anzahl an Quantisierungsstufen $N$ ergibt sich für Stufenhöhe\n",
    "$$\\Delta = \\frac{2 A_\\max}{N-1}\\text{.}$$\n",
    "und rein positive Signale $\\Delta = \\frac{A_\\max}{N-1}$.\n",
    "\n",
    "Kennlinien\n",
    "* Midtreat \n",
    "    $$k(x) = \\Delta\\left\\lfloor \\frac{x}{\\Delta} +\\frac{1}{2} \\right\\rfloor$$\n",
    "* Midrise\n",
    "    $$k(x) = \\Delta\\left[\\frac{1}{2} + \\left\\lfloor \\frac{x}{\\Delta} \\right\\rfloor\\right]$$"
   ]
  },
  {
   "cell_type": "code",
   "execution_count": null,
   "metadata": {},
   "outputs": [],
   "source": [
    "# Characteristics\n",
    "k_cl = lambda x, Amax:  np.clip(x, -Amax, Amax) # clip\n",
    "k_mt = lambda x, delta: delta*(np.floor( k_cl(x, Amax)/delta+0.5 ))  # midtreat\n",
    "k_mr = lambda x, delta: delta*(np.floor( k_cl(x, Amax)/delta ) + 0.5)# midrise"
   ]
  },
  {
   "cell_type": "markdown",
   "metadata": {},
   "source": [
    "Quantisierungsfehler\n",
    "$$s_\\mathrm{D}(t) = s_\\mathrm{Q}(t)-s(t)$$\n",
    "\n",
    "mit Quantisierungsfehlerkennlinie\n",
    "$q(x) = k(x)-x$.\n",
    "\n",
    "Ohne Übersteuerung und mit kleiner Stufenhöhe $\\Delta$ gilt\n",
    "$$p_{s_\\mathrm{D}}(z) = \\frac{1}{\\Delta}\\mathrm{rect}\\left(\\frac{z}{\\Delta}\\right) $$\n",
    "wobei Quantisierungsstörleistung\n",
    "$$N_\\mathrm{Q} = \\mathcal{E}\\{s_\\mathrm{D}^2(t)\\} =\\frac{\\Delta^2}{12}$$"
   ]
  },
  {
   "cell_type": "markdown",
   "metadata": {},
   "source": [
    "Interaktive Demo"
   ]
  },
  {
   "cell_type": "code",
   "execution_count": null,
   "metadata": {},
   "outputs": [],
   "source": [
    "fig,axs = plt.subplots(2,2, figsize=(8,8)); \n",
    "@interact(N = widgets.IntSlider(value=7, min=2,max=20),\n",
    "          qtype = widgets.RadioButtons(options=['Midtreat', 'Midrise'], \n",
    "                                       description='Quantization type:', style=ient_wdgtl_style))\n",
    "def update_plot(N, qtype):\n",
    "    # Quantize\n",
    "    delta = 2*Amax/(N-1)\n",
    "    if qtype == 'Midtreat':\n",
    "        sQ = k_mt(s, delta); xQ = k_mt(x, delta);\n",
    "    else:\n",
    "        sQ = k_mr(s, delta); xQ = k_mr(x, delta);\n",
    "    # Quantization error\n",
    "    sD = sQ-s; xD = xQ-x; # quantization error\n",
    "    psD = rect(x/delta)/delta # pdf of error\n",
    "    psD_hist, bins = np.histogram(sD, bins='auto', range=(-Amax, Amax), density=True)\n",
    "    x_hist = (bins[:-1] + bins[1:])/2 # x-axis\n",
    "    \n",
    "    if not axs[0,0].lines:\n",
    "        ax = axs[0,0]; ax.plot(x, xQ, 'rwth'); \n",
    "        ax.set_xlabel(r'$\\rightarrow x$'); ax.set_ylabel(r'$\\uparrow k(x)$');\n",
    "        ax.axis('equal'); ient_grid(ax); ax.set_xlim([-2.4, 2.4]); ient_axis(ax); \n",
    "        ax = axs[0,1]; ax.plot(t, s, 'k--', label=r'$s(t)$'); ax.plot(t, sQ, 'rwth', label=r'$s_\\mathrm{Q}(t)$')\n",
    "        ax.set_xlabel(r'$\\rightarrow t$'); ax.legend(); ient_grid(ax); ient_axis(ax);\n",
    "        ax = axs[1,0]; ax.plot(x, xD, 'rwth');\n",
    "        ax.set_xlabel(r'$\\rightarrow x$'); ax.set_ylabel(r'$\\uparrow q(x) = k(x)-x$', bbox=ient_wbbox); \n",
    "        ient_grid(ax); ient_axis(ax);\n",
    "        ax = axs[1,1]; ient_stem(ax, x_hist, psD_hist, 'black-50', markerfmt=\" \"); ax.plot(x, psD, 'rwth')\n",
    "        ax.set_xlabel(r'$\\rightarrow z$'); ax.set_ylabel(r'$\\uparrow p_{s_\\mathrm{D}}(z)$'); \n",
    "        ax.set_ylim([0, 4.9]); ient_grid(ax); ient_axis(ax);\n",
    "    else:\n",
    "        axs[0,0].lines[0].set_ydata(xQ); axs[0,1].lines[1].set_ydata(sQ)\n",
    "        axs[1,0].lines[0].set_ydata(xD); axs[1,1].lines[-1].set_ydata(psD)\n",
    "        ient_stem_set_data(axs[1,1].containers[0], x_hist, psD_hist)\n",
    "        \n",
    "    print(\"Nq (gemessen): {:.3f} ({:.3f})\".format(delta**2/12, np.mean((s-sQ)**2)))"
   ]
  },
  {
   "cell_type": "markdown",
   "metadata": {},
   "source": [
    "This notebook is provided as [Open Educational Resource](https://en.wikipedia.org/wiki/Open_educational_resources) (OER). Feel free to use the notebook for your own purposes. The code is licensed under the [MIT license](https://opensource.org/licenses/MIT). \n",
    "\n",
    "Please attribute the work as follows: \n",
    "*Christian Rohlfing, Übungsbeispiele zur Vorlesung \"Informationsübertragung\"*, gehalten von Jens-Rainer Ohm, 2019, Institut für Nachrichtentechnik, RWTH Aachen University."
   ]
  }
 ],
 "metadata": {
  "kernelspec": {
   "display_name": "Python 3",
   "language": "python",
   "name": "python3"
  },
  "language_info": {
   "codemirror_mode": {
    "name": "ipython",
    "version": 3
   },
   "file_extension": ".py",
   "mimetype": "text/x-python",
   "name": "python",
   "nbconvert_exporter": "python",
   "pygments_lexer": "ipython3",
   "version": "3.7.3"
  }
 },
 "nbformat": 4,
 "nbformat_minor": 2
}
